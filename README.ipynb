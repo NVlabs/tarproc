{
 "cells": [
  {
   "cell_type": "markdown",
   "metadata": {
    "kernel": "SoS"
   },
   "source": [
    "# The Tarproc Utilities\n",
    "\n",
    "For many big data applications, it is convenient to process data in record-sequential formats.\n",
    "One of the most common such formats is `tar` archives.\n",
    "\n",
    "We adopt the following conventions for record storage in tar archive:\n",
    "\n",
    "- files are split into a key and a field name\n",
    "- the key is the directory name plus the file name before the first dot\n",
    "- the field name is the file name after the first dot\n",
    "- files with the same key are grouped together and treated as a sample or record\n",
    "\n",
    "This convention is followed both by these utilities as well as the `webdataset` `DataSet` implementation for PyTorch, available at http://github.com/tmbdev/webdataset\n",
    "\n",
    "Here is an example of the ImageNet training data for deep learning:"
   ]
  },
  {
   "cell_type": "code",
   "execution_count": 1,
   "metadata": {
    "kernel": "Bash"
   },
   "outputs": [
    {
     "name": "stdout",
     "output_type": "stream",
     "text": [
      "10.cls\n",
      "10.png\n",
      "10.wnid\n",
      "10.xml\n",
      "12.cls\n",
      "tar: write error\n"
     ]
    }
   ],
   "source": [
    "tar tf testdata/imagenet-000000.tar | sed 5q"
   ]
  },
  {
   "cell_type": "markdown",
   "metadata": {
    "kernel": "Bash"
   },
   "source": [
    "The `tarshow` utility displays images and data from tar files; without the `-q` option, it will actually pop up an image window, but with `-q` it will simply display the records together."
   ]
  },
  {
   "cell_type": "code",
   "execution_count": 7,
   "metadata": {
    "kernel": "Bash"
   },
   "outputs": [
    {
     "name": "stdout",
     "output_type": "stream",
     "text": [
      "__key__             \t10\n",
      "cls                 \tb'304'\n",
      "png                 \tb'\\x89PNG\\r\\n\\x1a\\n\\x00\\x00\\x00\\rIHDR\\x00\\x00\\x02X\\x00\\x00\\x\n",
      "wnid                \tb'n04380533'\n",
      "xml                 \tb'None'\n",
      "\n",
      "__key__             \t12\n",
      "cls                 \tb'551'\n",
      "png                 \tb'\\x89PNG\\r\\n\\x1a\\n\\x00\\x00\\x00\\rIHDR\\x00\\x00\\x00\\xc8\\x00\\x0\n",
      "wnid                \tb'n03485407'\n"
     ]
    }
   ],
   "source": [
    "tarshow -q < testdata/imagenet-000000.tar 2>&1 | sed 10q"
   ]
  },
  {
   "cell_type": "markdown",
   "metadata": {
    "kernel": "Bash"
   },
   "source": [
    "The `tarfirst` command outputs the first file matching some specification; this is useful for debugging."
   ]
  },
  {
   "cell_type": "code",
   "execution_count": 56,
   "metadata": {
    "kernel": "Bash"
   },
   "outputs": [
    {
     "name": "stdout",
     "output_type": "stream",
     "text": [
      "18.wnid\n",
      "n02169497"
     ]
    }
   ],
   "source": [
    "tarfirst -s 3 -f wnid testdata/imagenet-000000.tar "
   ]
  },
  {
   "cell_type": "code",
   "execution_count": 41,
   "metadata": {
    "kernel": "Bash"
   },
   "outputs": [
    {
     "name": "stdout",
     "output_type": "stream",
     "text": [
      "10.png\n",
      "_test.image: PNG image data, 600 x 793, 8-bit/color RGB, non-interlaced\n"
     ]
    }
   ],
   "source": [
    "tarfirst < testdata/imagenet-000000.tar > _test.image\n",
    "file _test.image"
   ]
  },
  {
   "cell_type": "markdown",
   "metadata": {
    "kernel": "Bash"
   },
   "source": [
    "We can actually search with an arbitrary Python expression; `_` is a dict with the field name as the key and the file contents as the value."
   ]
  },
  {
   "cell_type": "code",
   "execution_count": 59,
   "metadata": {
    "kernel": "Bash"
   },
   "outputs": [
    {
     "name": "stdout",
     "output_type": "stream",
     "text": [
      "13.cls\n",
      "180"
     ]
    }
   ],
   "source": [
    "tarfirst -S 'int(_[\"cls\"]) == 180' -f cls testdata/imagenet-000000.tar "
   ]
  },
  {
   "cell_type": "markdown",
   "metadata": {
    "kernel": "Bash"
   },
   "source": [
    "# Creating Tar Shards"
   ]
  },
  {
   "cell_type": "markdown",
   "metadata": {
    "kernel": "Bash"
   },
   "source": [
    "The `tarsplit` utility is useful for creating sharded tar files."
   ]
  },
  {
   "cell_type": "code",
   "execution_count": 15,
   "metadata": {
    "kernel": "Bash"
   },
   "outputs": [
    {
     "name": "stdout",
     "output_type": "stream",
     "text": [
      "# writing _test-000000.tar (0, 0)\n",
      "# writing _test-000001.tar (21, 6151)\n",
      "# writing _test-000002.tar (42, 11857)\n",
      "# writing _test-000003.tar (63, 17955)\n",
      "# writing _test-000004.tar (84, 23947)\n"
     ]
    }
   ],
   "source": [
    "tarsplit -n 20 -o _test < testdata/sample.tar"
   ]
  },
  {
   "cell_type": "markdown",
   "metadata": {
    "kernel": "Bash"
   },
   "source": [
    "Commonly, we might use it with something more complex like this:"
   ]
  },
  {
   "cell_type": "code",
   "execution_count": 67,
   "metadata": {
    "kernel": "Bash"
   },
   "outputs": [
    {
     "name": "stdout",
     "output_type": "stream",
     "text": [
      "# writing _test-000000.tar (0, 0)\n",
      "# writing _test-000001.tar (803, 100051525)\n",
      "# writing _test-000002.tar (1520, 200122303)\n",
      "# writing _test-000003.tar (2113, 300254739)\n",
      "# writing _test-000004.tar (2778, 400408574)\n",
      "tar: -: Wrote only 8192 of 10240 bytes\n",
      "tar: Error is not recoverable: exiting now\n",
      "find: ‘standard output’: Broken pipe\n",
      "find: write error\n"
     ]
    }
   ],
   "source": [
    "(cd /mdata/imagenet-raw/train && find . -name '*.JPEG' | tar -T - -cf -) | tarsplit --maxshards=5 -s 1e8 -o _test"
   ]
  },
  {
   "cell_type": "markdown",
   "metadata": {
    "kernel": "Bash"
   },
   "source": [
    "You can reshard with a combination of `tarcat` and `tarsplit` (here we're using the same tar file as input multiple times, but in practice, you'd of course use separate shards)."
   ]
  },
  {
   "cell_type": "code",
   "execution_count": 85,
   "metadata": {
    "kernel": "Bash"
   },
   "outputs": [
    {
     "name": "stdout",
     "output_type": "stream",
     "text": [
      "# 0 testdata/sample.tar\n",
      "# writing temp-000000.tar (0, 0)\n",
      "# writing temp-000001.tar (60, 17020)\n",
      "# 90 testdata/sample.tar\n",
      "# writing temp-000002.tar (120, 34157)\n"
     ]
    }
   ],
   "source": [
    "tarcat testdata/sample.tar testdata/sample.tar | tarsplit -n 60"
   ]
  },
  {
   "cell_type": "markdown",
   "metadata": {
    "kernel": "Bash"
   },
   "source": [
    "The `tarcat` utility also lets you specify a downloader command (for accessing object stores) and can expand shard syntax. Here is a more complex example:"
   ]
  },
  {
   "cell_type": "code",
   "execution_count": 99,
   "metadata": {
    "kernel": "Bash"
   },
   "outputs": [
    {
     "name": "stdout",
     "output_type": "stream",
     "text": [
      "# got 148 files\n",
      "# 0 gs://lpr-imagenet/imagenet_train-0000.tgz\n",
      "n03788365_17158\t852\n",
      "n03000247_49831\t902\n",
      "n03000247_22907\t902\n",
      "n04597913_10741\t951\n",
      "n02117135_412\t34\n",
      "n03977966_79041\t285\n",
      "n04162706_8032\t589\n",
      "n03670208_11267\t270\n",
      "n02782093_1594\t233\n",
      "n02172182_3093\t626\n"
     ]
    },
    {
     "name": "stderr",
     "output_type": "stream",
     "text": [
      "Keyboard Interrupt\n"
     ]
    }
   ],
   "source": [
    "tarcat -c 'gsutil cat {}' -b 'gs://lpr-imagenet/imagenet_train-{0000..0147}.tgz' | tar2tsv -f cls | sed 10q"
   ]
  },
  {
   "cell_type": "markdown",
   "metadata": {
    "kernel": "Bash"
   },
   "source": [
    "# Sorting"
   ]
  },
  {
   "cell_type": "markdown",
   "metadata": {
    "kernel": "Bash"
   },
   "source": [
    "You can sort the records (grouped files) in a `tar` archive using `tarsort`.\n",
    "\n",
    "You can use any content for sorting. Here, we sort on the content of the `cls` field, interpreting it as an `int`."
   ]
  },
  {
   "cell_type": "code",
   "execution_count": 68,
   "metadata": {
    "kernel": "Bash"
   },
   "outputs": [],
   "source": [
    "tarsort --sortkey cls --sorttype int --update < testdata/imagenet-000000.tar > _sorted.tar"
   ]
  },
  {
   "cell_type": "code",
   "execution_count": 69,
   "metadata": {
    "kernel": "Bash"
   },
   "outputs": [
    {
     "name": "stdout",
     "output_type": "stream",
     "text": [
      "10\t304\tn04380533\n",
      "12\t551\tn03485407\n",
      "13\t180\tn02088632\n",
      "15\t165\tn02410509\n",
      "18\t625\tn02169497\n",
      "\n",
      "77\t14\tn02077923\n",
      "75\t25\tn02092339\n",
      "46\t27\tn02096437\n",
      "80\t53\tn02356798\n",
      "29\t54\tn02488702\n"
     ]
    }
   ],
   "source": [
    "tarcat -s 5 -f \"cls wnid\" testdata/imagenet-000000.tar\n",
    "echo\n",
    "tarcat -s 5 -f \"cls wnid\" _sorted.tar"
   ]
  },
  {
   "cell_type": "markdown",
   "metadata": {
    "kernel": "Bash"
   },
   "source": [
    "You can also use `tarsort` for shuffling records."
   ]
  },
  {
   "cell_type": "code",
   "execution_count": 75,
   "metadata": {
    "kernel": "Bash"
   },
   "outputs": [
    {
     "name": "stdout",
     "output_type": "stream",
     "text": [
      "27\t897\tn03220513\n",
      "63\t439\tn02051845\n",
      "59\t75\tn02500267\n",
      "69\t55\tn02123159\n",
      "43\t966\tn03188531\n"
     ]
    }
   ],
   "source": [
    "tarsort --sorttype shuffle < testdata/imagenet-000000.tar > _sorted.tar\n",
    "tarcat -s 5 -f \"cls wnid\" _sorted.tar"
   ]
  },
  {
   "cell_type": "markdown",
   "metadata": {
    "kernel": "Bash"
   },
   "source": [
    "# Mapping / Parallel Processing"
   ]
  },
  {
   "cell_type": "markdown",
   "metadata": {
    "kernel": "Bash"
   },
   "source": [
    "The `tarproc` utility lets you map command line programs and scripts over the samples in a tar file."
   ]
  },
  {
   "cell_type": "code",
   "execution_count": 54,
   "metadata": {
    "kernel": "Bash"
   },
   "outputs": [
    {
     "name": "stdout",
     "output_type": "stream",
     "text": [
      "\n",
      "real\t0m3.996s\n",
      "user\t0m3.702s\n",
      "sys\t0m0.286s\n"
     ]
    }
   ],
   "source": [
    "time tarproc -c \"gm mogrify -size 256x256 *.png\" < testdata/imagenet-000000.tar > _out.tar"
   ]
  },
  {
   "cell_type": "markdown",
   "metadata": {
    "kernel": "Bash"
   },
   "source": [
    "You can even parallelize this (somewhat analogous to `xargs`):"
   ]
  },
  {
   "cell_type": "code",
   "execution_count": 55,
   "metadata": {
    "kernel": "Bash"
   },
   "outputs": [
    {
     "name": "stdout",
     "output_type": "stream",
     "text": [
      "\n",
      "real\t0m0.795s\n",
      "user\t0m4.140s\n",
      "sys\t0m0.390s\n"
     ]
    }
   ],
   "source": [
    "time tarproc -p 8 -c \"gm mogrify -size 256x256 *.png\" < testdata/imagenet-000000.tar > _out.tar"
   ]
  },
  {
   "cell_type": "code",
   "execution_count": null,
   "metadata": {
    "kernel": "Bash"
   },
   "outputs": [],
   "source": []
  }
 ],
 "metadata": {
  "kernelspec": {
   "display_name": "SoS",
   "language": "sos",
   "name": "sos"
  },
  "language_info": {
   "codemirror_mode": "sos",
   "file_extension": ".sos",
   "mimetype": "text/x-sos",
   "name": "sos",
   "nbconvert_exporter": "sos_notebook.converter.SoS_Exporter",
   "pygments_lexer": "sos"
  },
  "sos": {
   "kernels": [
    [
     "Bash",
     "bash",
     "Bash",
     "#E6EEFF",
     ""
    ],
    [
     "SoS",
     "sos",
     "",
     "",
     "sos"
    ]
   ],
   "version": "0.19.15"
  }
 },
 "nbformat": 4,
 "nbformat_minor": 4
}

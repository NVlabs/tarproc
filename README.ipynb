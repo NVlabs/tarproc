{
 "cells": [
  {
   "cell_type": "markdown",
   "metadata": {
    "kernel": "SoS"
   },
   "source": [
    "# The Tarproc Utilities\n",
    "\n",
    "For many big data applications, it is convenient to process data in record-sequential formats.\n",
    "One of the most common such formats is `tar` archives.\n",
    "\n",
    "We adopt the following conventions for record storage in tar archive:\n",
    "\n",
    "- files are split into a key and a field name\n",
    "- the key is the directory name plus the file name before the first dot\n",
    "- the field name is the file name after the first dot\n",
    "- files with the same key are grouped together and treated as a sample or record\n",
    "\n",
    "This convention is followed both by these utilities as well as the `webdataset` `DataSet` implementation for PyTorch, available at http://github.com/tmbdev/webdataset\n",
    "\n",
    "Here is an example of the ImageNet training data for deep learning:"
   ]
  },
  {
   "cell_type": "code",
   "execution_count": 1,
   "metadata": {
    "kernel": "Bash"
   },
   "outputs": [
    {
     "name": "stdout",
     "output_type": "stream",
     "text": [
      "10.cls\n",
      "10.png\n",
      "10.wnid\n",
      "10.xml\n",
      "12.cls\n",
      "tar: write error\n"
     ]
    }
   ],
   "source": [
    "tar tf testdata/imagenet-000000.tar | sed 5q"
   ]
  },
  {
   "cell_type": "markdown",
   "metadata": {
    "kernel": "Bash"
   },
   "source": [
    "The `tarshow` utility displays images and data from tar files."
   ]
  },
  {
   "cell_type": "code",
   "execution_count": 1,
   "metadata": {
    "kernel": "Bash"
   },
   "outputs": [
    {
     "name": "stdout",
     "output_type": "stream",
     "text": [
      "__key__             \t10\n",
      "__source__          \ttestdata/imagenet-000000.tar\n",
      "cls                 \tb'304'\n",
      "png                 \tb'\\x89PNG\\r\\n\\x1a\\n\\x00\\x00\\x00\\rIHDR\\x00\\x00\\x02X\\x00\\x00\\x\n",
      "wnid                \tb'n04380533'\n",
      "xml                 \tb'None'\n",
      "\n",
      "__key__             \t12\n",
      "__source__          \ttestdata/imagenet-000000.tar\n",
      "cls                 \tb'551'\n",
      "png                 \tb'\\x89PNG\\r\\n\\x1a\\n\\x00\\x00\\x00\\rIHDR\\x00\\x00\\x00\\xc8\\x00\\x0\n",
      "wnid                \tb'n03485407'\n",
      "xml                 \tb'None'\n",
      "\n",
      "__key__             \t13\n",
      "__source__          \ttestdata/imagenet-000000.tar\n",
      "cls                 \tb'180'\n",
      "png                 \tb'\\x89PNG\\r\\n\\x1a\\n\\x00\\x00\\x00\\rIHDR\\x00\\x00\\x01\\x90\\x00\\x0\n",
      "wnid                \tb'n02088632'\n",
      "xml                 \tb'None'\n",
      "\n",
      "__key__             \t15\n",
      "__source__          \ttestdata/imagenet-000000.tar\n",
      "cls                 \tb'165'\n",
      "png                 \tb'\\x89PNG\\r\\n\\x1a\\n\\x00\\x00\\x00\\rIHDR\\x00\\x00\\x01\\xf4\\x00\\x0\n",
      "wnid                \tb'n02410509'\n",
      "xml                 \tb'<annotation>\\n\\t<folder>n02410509</folder>\\n\\t<filename>n0\n",
      "\n"
     ]
    }
   ],
   "source": [
    "tarshow -d 0 'testdata/imagenet-000000.tar#0,3'"
   ]
  },
  {
   "cell_type": "markdown",
   "metadata": {
    "kernel": "Bash"
   },
   "source": [
    "The `tarfirst` command outputs the first file matching some specification; this is useful for debugging."
   ]
  },
  {
   "cell_type": "code",
   "execution_count": 2,
   "metadata": {
    "kernel": "Bash"
   },
   "outputs": [
    {
     "name": "stdout",
     "output_type": "stream",
     "text": [
      "10.wnid\n",
      "n04380533"
     ]
    }
   ],
   "source": [
    "tarfirst -f wnid testdata/imagenet-000000.tar"
   ]
  },
  {
   "cell_type": "code",
   "execution_count": 3,
   "metadata": {
    "kernel": "Bash"
   },
   "outputs": [
    {
     "name": "stdout",
     "output_type": "stream",
     "text": [
      "10.png\n",
      "_test.image: PNG image data, 600 x 793, 8-bit/color RGB, non-interlaced\n"
     ]
    }
   ],
   "source": [
    "tarfirst testdata/imagenet-000000.tar > _test.image\n",
    "file _test.image"
   ]
  },
  {
   "cell_type": "markdown",
   "metadata": {
    "kernel": "Bash"
   },
   "source": [
    "We can actually search with an arbitrary Python expression; `_` is a dict with the field name as the key and the file contents as the value."
   ]
  },
  {
   "cell_type": "code",
   "execution_count": 4,
   "metadata": {
    "kernel": "Bash"
   },
   "outputs": [
    {
     "name": "stdout",
     "output_type": "stream",
     "text": [
      "13.cls\n",
      "180"
     ]
    }
   ],
   "source": [
    "tarfirst -S 'int(_[\"cls\"]) == 180' -f cls testdata/imagenet-000000.tar "
   ]
  },
  {
   "cell_type": "markdown",
   "metadata": {
    "kernel": "Bash"
   },
   "source": [
    "# Creating Tar Shards"
   ]
  },
  {
   "cell_type": "markdown",
   "metadata": {
    "kernel": "Bash"
   },
   "source": [
    "The `tarsplit` utility is useful for creating sharded tar files."
   ]
  },
  {
   "cell_type": "code",
   "execution_count": 5,
   "metadata": {
    "kernel": "Bash"
   },
   "outputs": [
    {
     "name": "stdout",
     "output_type": "stream",
     "text": [
      "# writing _test-000000.tar (0, 0)\n",
      "# writing _test-000001.tar (20, 6460)\n",
      "# writing _test-000002.tar (40, 12393)\n",
      "# writing _test-000003.tar (60, 18760)\n",
      "# writing _test-000004.tar (80, 25077)\n"
     ]
    }
   ],
   "source": [
    "tarsplit -n 20 -o _test testdata/sample.tar"
   ]
  },
  {
   "cell_type": "markdown",
   "metadata": {
    "kernel": "Bash"
   },
   "source": [
    "Commonly, we might use it with something more complex like this:"
   ]
  },
  {
   "cell_type": "code",
   "execution_count": 6,
   "metadata": {
    "kernel": "Bash"
   },
   "outputs": [
    {
     "name": "stdout",
     "output_type": "stream",
     "text": [
      "# writing _test-000000.tar (0, 0)\n",
      "# writing _test-000001.tar (803, 100060358)\n",
      "# writing _test-000002.tar (1520, 200139023)\n",
      "# writing _test-000003.tar (2113, 300277982)\n",
      "# writing _test-000004.tar (2777, 400283020)\n",
      "tar: -: Wrote only 4096 of 10240 bytes\n",
      "tar: Error is not recoverable: exiting now\n"
     ]
    },
    {
     "name": "stderr",
     "output_type": "stream",
     "text": [
      "Keyboard Interrupt\n"
     ]
    }
   ],
   "source": [
    "(cd /mdata/imagenet-raw/train && find . -name '*.JPEG' | tar -T - -cf -) | tarsplit --maxshards=5 -s 1e8 -o _test"
   ]
  },
  {
   "cell_type": "markdown",
   "metadata": {
    "kernel": "Bash"
   },
   "source": [
    "# Concatenating Tar Files\n",
    "\n",
    "You can reshard with a combination of `tarcat` and `tarsplit` (here we're using the same tar file as input multiple times, but in practice, you'd of course use separate shards)."
   ]
  },
  {
   "cell_type": "code",
   "execution_count": 7,
   "metadata": {
    "kernel": "Bash"
   },
   "outputs": [
    {
     "name": "stdout",
     "output_type": "stream",
     "text": [
      "# got 2 files\n",
      "# 0 testdata/sample.tar\n",
      "# writing temp-000000.tar (0, 0)\n",
      "# writing temp-000001.tar (60, 18760)\n",
      "# 90 testdata/sample.tar\n",
      "# writing temp-000002.tar (120, 37637)\n"
     ]
    }
   ],
   "source": [
    "tarscat testdata/sample.tar testdata/sample.tar | tarsplit -n 60"
   ]
  },
  {
   "cell_type": "markdown",
   "metadata": {
    "kernel": "Bash"
   },
   "source": [
    "The `tarscat` utility also lets you specify a downloader command (for accessing object stores) and can expand shard syntax. Here is a more complex example. Downloader commands are specified by setting environment variables for each URL schema."
   ]
  },
  {
   "cell_type": "code",
   "execution_count": 1,
   "metadata": {
    "kernel": "Bash"
   },
   "outputs": [],
   "source": [
    "export GOPEN_GS=\"gsutil cat '{}'\"\n",
    "export GOPEN_HTTP=\"curl --silent -L '{}'\""
   ]
  },
  {
   "cell_type": "code",
   "execution_count": 4,
   "metadata": {
    "kernel": "Bash"
   },
   "outputs": [
    {
     "name": "stdout",
     "output_type": "stream",
     "text": [
      "# got 1 files\n",
      "# 0 gs://lpr-imagenet/imagenet_train-0000.tgz\n",
      "__key__\tcls\n",
      "n03788365_17158\t852\n",
      "n03000247_49831\t902\n",
      "n03000247_22907\t902\n",
      "n04597913_10741\t951\n",
      "n02117135_412\t34\n",
      "n03977966_79041\t285\n",
      "n04162706_8032\t589\n",
      "n03670208_11267\t270\n",
      "n02782093_1594\t233\n",
      "n02172182_3093\t626\n"
     ]
    }
   ],
   "source": [
    "tarscat -c 10 'gs://lpr-imagenet/imagenet_train-0000.tgz' | tar2tsv -f cls"
   ]
  },
  {
   "cell_type": "code",
   "execution_count": 4,
   "metadata": {
    "kernel": "Bash"
   },
   "outputs": [
    {
     "name": "stdout",
     "output_type": "stream",
     "text": [
      "# got 148 files\n",
      "# 0 gs://lpr-imagenet/imagenet_train-0043.tgz\n"
     ]
    }
   ],
   "source": [
    "tarscat --shuffle -c 3 -b 'gs://lpr-imagenet/imagenet_train-{0000..0147}.tgz' > _temp.tar"
   ]
  },
  {
   "cell_type": "code",
   "execution_count": 2,
   "metadata": {
    "kernel": "Bash"
   },
   "outputs": [
    {
     "name": "stdout",
     "output_type": "stream",
     "text": [
      "__key__             \tn07753113_21272\n",
      "__source__          \tb'gs://lpr-imagenet/imagenet_train-0043.tgz'\n",
      "cls                 \tb'321'\n",
      "jpg                 \tb'\\xff\\xd8\\xff\\xe0\\x00\\x10JFIF\\x00\\x01\\x01\\x01\\x00H\\x00H\\x00\n",
      "json                \tb'{\"cls\": 321, \"cname\": \"fig\"}'\n",
      "\n",
      "__key__             \tn02408429_6603\n",
      "__source__          \tb'gs://lpr-imagenet/imagenet_train-0043.tgz'\n",
      "cls                 \tb'162'\n",
      "jpg                 \tb'\\xff\\xd8\\xff\\xe0\\x00\\x10JFIF\\x00\\x01\\x01\\x01\\x00H\\x00H\\x00\n",
      "json                \tb'{\"cls\": 162, \"cname\": \"water buffalo, water ox, Asiatic bu\n",
      "\n",
      "__key__             \tn03485794_6421\n",
      "__source__          \tb'gs://lpr-imagenet/imagenet_train-0043.tgz'\n",
      "cls                 \tb'750'\n",
      "jpg                 \tb'\\xff\\xd8\\xff\\xe0\\x00\\x10JFIF\\x00\\x01\\x01\\x01\\x00H\\x00H\\x00\n",
      "json                \tb'{\"cls\": 750, \"cname\": \"handkerchief, hankie, hanky, hankey\n",
      "\n"
     ]
    }
   ],
   "source": [
    "tarshow -d 0 _temp.tar"
   ]
  },
  {
   "cell_type": "code",
   "execution_count": 2,
   "metadata": {
    "kernel": "Bash"
   },
   "outputs": [
    {
     "name": "stdout",
     "output_type": "stream",
     "text": [
      "__key__             \tn03788365_17158\n",
      "__source__          \tgs://lpr-imagenet/imagenet_train-0000.tgz\n",
      "cls                 \tb'852'\n",
      "jpg                 \tb'\\xff\\xd8\\xff\\xe0\\x00\\x10JFIF\\x00\\x01\\x01\\x01\\x0e\\xd8\\x0e\\x\n",
      "json                \tb'{\"annotation\": {\"folder\": \"n03788365\", \"filename\": \"n03788\n",
      "\n",
      "__key__             \tn03000247_49831\n",
      "__source__          \tgs://lpr-imagenet/imagenet_train-0000.tgz\n",
      "cls                 \tb'902'\n",
      "jpg                 \tb'\\xff\\xd8\\xff\\xe0\\x00\\x10JFIF\\x00\\x01\\x01\\x01\\x00\\xf0\\x00\\x\n",
      "json                \tb'{\"cls\": 902, \"cname\": \"chain mail, ring mail, mail, chain \n",
      "\n",
      "__key__             \tn03000247_22907\n",
      "__source__          \tgs://lpr-imagenet/imagenet_train-0000.tgz\n",
      "cls                 \tb'902'\n",
      "jpg                 \tb'\\xff\\xd8\\xff\\xe0\\x00\\x10JFIF\\x00\\x01\\x01\\x01\\x00H\\x00H\\x00\n",
      "json                \tb'{\"annotation\": {\"folder\": \"n03000247\", \"filename\": \"n03000\n",
      "\n",
      "__key__             \tn04597913_10741\n",
      "__source__          \tgs://lpr-imagenet/imagenet_train-0000.tgz\n",
      "cls                 \tb'951'\n",
      "jpg                 \tb'\\xff\\xd8\\xff\\xe0\\x00\\x10JFIF\\x00\\x01\\x01\\x01\\x00\\xfa\\x00\\x\n",
      "json                \tb'{\"annotation\": {\"folder\": \"n04597913\", \"filename\": \"n04597\n",
      "\n"
     ]
    }
   ],
   "source": [
    "tarshow -d 0 'gs://lpr-imagenet/imagenet_train-{0000..0099}.tgz#0,3'"
   ]
  },
  {
   "cell_type": "markdown",
   "metadata": {
    "kernel": "Bash"
   },
   "source": [
    "# Creating Tar Files from TSV Files\n",
    "\n",
    "You can create `tar` archives from TSV files. The first line is a header that gives the field names, subsequent lines are data. Headers starting with \"@\" cause the corresponding field content to be interpreted as a file name that gets incorporated by binary-reading it.\n",
    "\n",
    "Of course, this too combines with `tarsplit` and other utilities."
   ]
  },
  {
   "cell_type": "code",
   "execution_count": 4,
   "metadata": {
    "kernel": "Bash"
   },
   "outputs": [
    {
     "name": "stdout",
     "output_type": "stream",
     "text": [
      "__key__\t@file\ta\tb\tc\n",
      "a\thello\t1\t1\t1\n",
      "b\thello\t1\t1\t1\n"
     ]
    }
   ],
   "source": [
    "sed 3q testdata/plan.tsv"
   ]
  },
  {
   "cell_type": "code",
   "execution_count": 6,
   "metadata": {
    "kernel": "Bash"
   },
   "outputs": [
    {
     "name": "stdout",
     "output_type": "stream",
     "text": [
      "['__key__', '@file', 'a', 'b', 'c']\n",
      "__key__             \ta\n",
      "__source__          \t-\n",
      "a                   \tb'1'\n",
      "b                   \tb'1'\n",
      "c                   \tb'1'\n",
      "file                \tb'world\\n'\n",
      "\n",
      "__key__             \tb\n",
      "__source__          \t-\n",
      "a                   \tb'1'\n",
      "b                   \tb'1'\n",
      "c                   \tb'1'\n",
      "file                \tb'world\\n'\n",
      "\n",
      "__key__             \tc\n",
      "__source__          \t-\n",
      "a                   \tb'1'\n",
      "b                   \tb'1'\n",
      "c                   \tb'f'\n",
      "\n"
     ]
    }
   ],
   "source": [
    "tarcreate -C testdata testdata/plan.tsv | tarshow -c 3"
   ]
  },
  {
   "cell_type": "markdown",
   "metadata": {
    "kernel": "Bash"
   },
   "source": [
    "# Sorting"
   ]
  },
  {
   "cell_type": "markdown",
   "metadata": {
    "kernel": "Bash"
   },
   "source": [
    "You can sort the records (grouped files) in a `tar` archive using `tarsort`.\n",
    "\n",
    "You can use any content for sorting. Here, we sort on the content of the `cls` field, interpreting it as an `int`."
   ]
  },
  {
   "cell_type": "code",
   "execution_count": 7,
   "metadata": {
    "kernel": "Bash"
   },
   "outputs": [],
   "source": [
    "tarsort --sortkey cls --sorttype int --update testdata/imagenet-000000.tar > _sorted.tar"
   ]
  },
  {
   "cell_type": "code",
   "execution_count": 8,
   "metadata": {
    "kernel": "Bash"
   },
   "outputs": [
    {
     "name": "stdout",
     "output_type": "stream",
     "text": [
      "__key__\tcls\twnid\n",
      "10\t304\tn04380533\n",
      "12\t551\tn03485407\n",
      "13\t180\tn02088632\n",
      "15\t165\tn02410509\n",
      "18\t625\tn02169497\n",
      "\n",
      "__key__\tcls\twnid\n",
      "77\t14\tn02077923\n",
      "75\t25\tn02092339\n",
      "46\t27\tn02096437\n",
      "80\t53\tn02356798\n",
      "29\t54\tn02488702\n"
     ]
    }
   ],
   "source": [
    "tar2tsv -c 5 -f \"cls wnid\" testdata/imagenet-000000.tar\n",
    "echo\n",
    "tar2tsv -c 5 -f \"cls wnid\" _sorted.tar"
   ]
  },
  {
   "cell_type": "markdown",
   "metadata": {
    "kernel": "Bash"
   },
   "source": [
    "You can also use `tarsort` for shuffling records."
   ]
  },
  {
   "cell_type": "code",
   "execution_count": 9,
   "metadata": {
    "kernel": "Bash"
   },
   "outputs": [
    {
     "name": "stdout",
     "output_type": "stream",
     "text": [
      "__key__\tcls\twnid\n",
      "27\t897\tn03220513\n",
      "63\t439\tn02051845\n",
      "59\t75\tn02500267\n",
      "69\t55\tn02123159\n",
      "43\t966\tn03188531\n"
     ]
    }
   ],
   "source": [
    "tarsort --sorttype shuffle < testdata/imagenet-000000.tar > _sorted.tar\n",
    "tar2tsv -c 5 -f \"cls wnid\" _sorted.tar"
   ]
  },
  {
   "cell_type": "markdown",
   "metadata": {
    "kernel": "Bash"
   },
   "source": [
    "# Mapping / Parallel Processing"
   ]
  },
  {
   "cell_type": "markdown",
   "metadata": {
    "kernel": "Bash"
   },
   "source": [
    "The `tarproc` utility lets you map command line programs and scripts over the samples in a tar file."
   ]
  },
  {
   "cell_type": "code",
   "execution_count": 10,
   "metadata": {
    "kernel": "Bash"
   },
   "outputs": [
    {
     "name": "stdout",
     "output_type": "stream",
     "text": [
      "\n",
      "real\t0m3.866s\n",
      "user\t0m3.520s\n",
      "sys\t0m0.332s\n"
     ]
    }
   ],
   "source": [
    "time tarproc -c \"gm mogrify -size 256x256 *.png\" < testdata/imagenet-000000.tar -o - > _out.tar"
   ]
  },
  {
   "cell_type": "markdown",
   "metadata": {
    "kernel": "Bash"
   },
   "source": [
    "You can even parallelize this (somewhat analogous to `xargs`):"
   ]
  },
  {
   "cell_type": "code",
   "execution_count": 11,
   "metadata": {
    "kernel": "Bash"
   },
   "outputs": [
    {
     "name": "stdout",
     "output_type": "stream",
     "text": [
      "\n",
      "real\t0m0.804s\n",
      "user\t0m4.190s\n",
      "sys\t0m0.389s\n"
     ]
    }
   ],
   "source": [
    "time tarproc -p 8 -c \"gm mogrify -size 256x256 *.png\" < testdata/imagenet-000000.tar -o - > _out.tar"
   ]
  },
  {
   "cell_type": "markdown",
   "metadata": {
    "kernel": "Bash"
   },
   "source": [
    "# Python Interface"
   ]
  },
  {
   "cell_type": "code",
   "execution_count": 12,
   "metadata": {
    "kernel": "Python3"
   },
   "outputs": [
    {
     "name": "stdout",
     "output_type": "stream",
     "text": [
      "dict_keys(['__key__', 'cls', 'jpg', 'json', '__source__'])\n",
      "dict_keys(['__key__', 'cls', 'jpg', 'json', '__source__'])\n",
      "dict_keys(['__key__', 'cls', 'jpg', 'json', '__source__'])\n",
      "dict_keys(['__key__', 'cls', 'jpg', 'json', '__source__'])\n",
      "dict_keys(['__key__', 'cls', 'jpg', 'json', '__source__'])\n",
      "dict_keys(['__key__', 'cls', 'jpg', 'json', '__source__'])\n",
      "dict_keys(['__key__', 'cls', 'jpg', 'json', '__source__'])\n",
      "dict_keys(['__key__', 'cls', 'jpg', 'json', '__source__'])\n",
      "dict_keys(['__key__', 'cls', 'jpg', 'json', '__source__'])\n",
      "dict_keys(['__key__', 'cls', 'jpg', 'json', '__source__'])\n"
     ]
    }
   ],
   "source": [
    "from tarproclib import reader, gopen\n",
    "from itertools import islice\n",
    "\n",
    "gopen.handlers[\"gs\"] = \"gsutil cat '{}'\"\n",
    "\n",
    "for sample in islice(reader.TarIterator(\"gs://lpr-imagenet/imagenet_train-0000.tgz\"), 0, 10):\n",
    "    print(sample.keys())"
   ]
  }
 ],
 "metadata": {
  "kernelspec": {
   "display_name": "SoS",
   "language": "sos",
   "name": "sos"
  },
  "language_info": {
   "codemirror_mode": "sos",
   "file_extension": ".sos",
   "mimetype": "text/x-sos",
   "name": "sos",
   "nbconvert_exporter": "sos_notebook.converter.SoS_Exporter",
   "pygments_lexer": "sos"
  },
  "sos": {
   "kernels": [
    [
     "Bash",
     "bash",
     "Bash",
     "#E6EEFF",
     "shell"
    ],
    [
     "Python3",
     "python3",
     "Python3",
     "#FFD91A",
     {
      "name": "ipython",
      "version": 3
     }
    ]
   ],
   "panel": {
    "displayed": true,
    "height": 0
   },
   "version": "0.20.5"
  }
 },
 "nbformat": 4,
 "nbformat_minor": 4
}
